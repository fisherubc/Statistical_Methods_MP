{
 "cells": [
  {
   "cell_type": "code",
   "execution_count": 1,
   "metadata": {},
   "outputs": [
    {
     "name": "stdout",
     "output_type": "stream",
     "text": [
      " Volume in drive C has no label.\n",
      " Volume Serial Number is BAE3-EAE6\n",
      "\n",
      " Directory of C:\\Users\\cheng\\OneDrive\\Python_Fish_Hub\\Statistical_Methods_MP\n",
      "\n",
      "2018-02-06  09:59 PM    <DIR>          .\n",
      "2018-02-06  09:59 PM    <DIR>          ..\n",
      "2018-02-06  09:59 PM    <DIR>          .ipynb_checkpoints\n",
      "2018-02-06  09:40 PM    <DIR>          data\n",
      "2018-02-06  09:40 PM                24 README.md\n",
      "2018-02-06  09:59 PM                72 Untitled.ipynb\n",
      "               2 File(s)             96 bytes\n",
      "               4 Dir(s)  85,827,096,576 bytes free\n"
     ]
    }
   ],
   "source": [
    "ls"
   ]
  },
  {
   "cell_type": "code",
   "execution_count": null,
   "metadata": {
    "collapsed": true
   },
   "outputs": [],
   "source": []
  }
 ],
 "metadata": {
  "kernelspec": {
   "display_name": "Python 3",
   "language": "python",
   "name": "python3"
  },
  "language_info": {
   "codemirror_mode": {
    "name": "ipython",
    "version": 3
   },
   "file_extension": ".py",
   "mimetype": "text/x-python",
   "name": "python",
   "nbconvert_exporter": "python",
   "pygments_lexer": "ipython3",
   "version": "3.6.3"
  }
 },
 "nbformat": 4,
 "nbformat_minor": 2
}
