{
 "cells": [
  {
   "cell_type": "code",
   "execution_count": 17,
   "metadata": {},
   "outputs": [],
   "source": [
    "import pandas as pd\n",
    "import seaborn as sns"
   ]
  },
  {
   "cell_type": "code",
   "execution_count": 5,
   "metadata": {},
   "outputs": [
    {
     "name": "stdout",
     "output_type": "stream",
     "text": [
      "C:\\Users\\cheng\\OneDrive\\Python_Fish_Hub\\Statistical_Methods_MP\\data\n"
     ]
    }
   ],
   "source": [
    "cd data"
   ]
  },
  {
   "cell_type": "code",
   "execution_count": 6,
   "metadata": {},
   "outputs": [
    {
     "name": "stdout",
     "output_type": "stream",
     "text": [
      " Volume in drive C has no label.\n",
      " Volume Serial Number is BAE3-EAE6\n",
      "\n",
      " Directory of C:\\Users\\cheng\\OneDrive\\Python_Fish_Hub\\Statistical_Methods_MP\\data\n",
      "\n",
      "2018-02-06  09:40 PM    <DIR>          .\n",
      "2018-02-06  09:40 PM    <DIR>          ..\n",
      "2018-02-05  09:51 PM    <DIR>          Case Studies Chapter 6\n",
      "2017-09-22  10:44 AM           332,246 Chapter 10 examples.xlsx\n",
      "2017-12-29  11:10 AM           517,179 Chapter 11 examples.xlsx\n",
      "2017-12-29  11:10 AM            67,013 Chapter 12 examples.xlsx\n",
      "2017-12-29  10:06 AM           127,655 Chapter 13 examples Gy.xlsx\n",
      "2017-12-21  11:06 AM           646,800 Chapter 2 figure data.xlsx\n",
      "2017-12-21  11:06 AM            14,455 Chapter 3 examples.xlsx\n",
      "2017-12-21  11:09 AM           123,610 Chapter 4 examples.xlsx\n",
      "2017-05-22  08:19 AM           121,979 Chapter 5 examples.xlsx\n",
      "2015-01-14  09:51 AM         2,121,509 Chapter 6 examples.xlsx\n",
      "2014-10-16  03:47 PM            66,481 Chapter 7 examples.xlsx\n",
      "2014-10-16  03:47 PM           563,043 Chapter 8 examples.xlsx\n",
      "2017-11-03  11:42 AM         1,796,967 Chapter 9 examples.xlsx\n",
      "              12 File(s)      6,498,937 bytes\n",
      "               3 Dir(s)  87,005,925,376 bytes free\n"
     ]
    }
   ],
   "source": [
    "ls"
   ]
  },
  {
   "cell_type": "code",
   "execution_count": 9,
   "metadata": {},
   "outputs": [],
   "source": [
    "data = pd.read_excel('Chapter 2 figure data.xlsx', sheetname = 0)"
   ]
  },
  {
   "cell_type": "code",
   "execution_count": 12,
   "metadata": {},
   "outputs": [
    {
     "data": {
      "text/plain": [
       "Index(['Unnamed: 0', 'Rock strength Mpa', 'Power at 3.4mm set (kWh/t)',\n",
       "       'Power at 4.3mm set (kWh/t)'],\n",
       "      dtype='object')"
      ]
     },
     "execution_count": 12,
     "metadata": {},
     "output_type": "execute_result"
    }
   ],
   "source": [
    "data.columns"
   ]
  },
  {
   "cell_type": "code",
   "execution_count": 14,
   "metadata": {},
   "outputs": [],
   "source": [
    "data = pd.DataFrame(data, columns = ['Rock strength Mpa', 'Power at 3.4mm set (kWh/t)', 'Power at 4.3mm set (kWh/t)'])"
   ]
  },
  {
   "cell_type": "code",
   "execution_count": 15,
   "metadata": {},
   "outputs": [
    {
     "data": {
      "text/html": [
       "<div>\n",
       "<style>\n",
       "    .dataframe thead tr:only-child th {\n",
       "        text-align: right;\n",
       "    }\n",
       "\n",
       "    .dataframe thead th {\n",
       "        text-align: left;\n",
       "    }\n",
       "\n",
       "    .dataframe tbody tr th {\n",
       "        vertical-align: top;\n",
       "    }\n",
       "</style>\n",
       "<table border=\"1\" class=\"dataframe\">\n",
       "  <thead>\n",
       "    <tr style=\"text-align: right;\">\n",
       "      <th></th>\n",
       "      <th>Rock strength Mpa</th>\n",
       "      <th>Power at 3.4mm set (kWh/t)</th>\n",
       "      <th>Power at 4.3mm set (kWh/t)</th>\n",
       "    </tr>\n",
       "  </thead>\n",
       "  <tbody>\n",
       "    <tr>\n",
       "      <th>0</th>\n",
       "      <td>34.31</td>\n",
       "      <td>0.853</td>\n",
       "      <td>0.658</td>\n",
       "    </tr>\n",
       "    <tr>\n",
       "      <th>1</th>\n",
       "      <td>42.21</td>\n",
       "      <td>0.882</td>\n",
       "      <td>0.663</td>\n",
       "    </tr>\n",
       "    <tr>\n",
       "      <th>2</th>\n",
       "      <td>22.93</td>\n",
       "      <td>0.773</td>\n",
       "      <td>0.565</td>\n",
       "    </tr>\n",
       "    <tr>\n",
       "      <th>3</th>\n",
       "      <td>7.09</td>\n",
       "      <td>0.649</td>\n",
       "      <td>0.520</td>\n",
       "    </tr>\n",
       "  </tbody>\n",
       "</table>\n",
       "</div>"
      ],
      "text/plain": [
       "   Rock strength Mpa  Power at 3.4mm set (kWh/t)  Power at 4.3mm set (kWh/t)\n",
       "0              34.31                       0.853                       0.658\n",
       "1              42.21                       0.882                       0.663\n",
       "2              22.93                       0.773                       0.565\n",
       "3               7.09                       0.649                       0.520"
      ]
     },
     "execution_count": 15,
     "metadata": {},
     "output_type": "execute_result"
    }
   ],
   "source": [
    "data"
   ]
  },
  {
   "cell_type": "code",
   "execution_count": null,
   "metadata": {
    "collapsed": true
   },
   "outputs": [],
   "source": []
  }
 ],
 "metadata": {
  "kernelspec": {
   "display_name": "Python 3",
   "language": "python",
   "name": "python3"
  },
  "language_info": {
   "codemirror_mode": {
    "name": "ipython",
    "version": 3
   },
   "file_extension": ".py",
   "mimetype": "text/x-python",
   "name": "python",
   "nbconvert_exporter": "python",
   "pygments_lexer": "ipython3",
   "version": "3.6.3"
  }
 },
 "nbformat": 4,
 "nbformat_minor": 2
}
